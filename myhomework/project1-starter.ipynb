{
 "cells": [
  {
   "cell_type": "markdown",
   "metadata": {},
   "source": [
    "# Project 1\n",
    "\n",
    "In this first project you will create a framework to scope out data science projects. This framework will provide you with a guide to develop a well-articulated problem statement and analysis plan that will be robust and reproducible."
   ]
  },
  {
   "cell_type": "markdown",
   "metadata": {},
   "source": [
    "### Read and evaluate the following problem statement: \n",
    "Determine which free-tier customers will covert to paying customers, using demographic data collected at signup (age, gender, location, and profession) and customer useage data (days since last log in, and activity score 1 = active user, 0= inactive user) based on Hooli data from Jan-Apr 2015. \n"
   ]
  },
  {
   "cell_type": "markdown",
   "metadata": {},
   "source": [
    "#### 1. What is the outcome?"
   ]
  },
  {
   "cell_type": "markdown",
   "metadata": {},
   "source": [
    "Answer: If a free-tier customer will convert to paying customer (yes/no)"
   ]
  },
  {
   "cell_type": "markdown",
   "metadata": {},
   "source": [
    "#### 2. What are the predictors/covariates? "
   ]
  },
  {
   "cell_type": "markdown",
   "metadata": {},
   "source": [
    "Answer: age, gender, location, profession, days since last log in, activity score"
   ]
  },
  {
   "cell_type": "markdown",
   "metadata": {},
   "source": [
    "#### 3. What timeframe is this data relevent for?"
   ]
  },
  {
   "cell_type": "markdown",
   "metadata": {},
   "source": [
    "Answer: Jan-Apr 2015"
   ]
  },
  {
   "cell_type": "markdown",
   "metadata": {},
   "source": [
    "#### 4. What is the hypothesis?"
   ]
  },
  {
   "cell_type": "markdown",
   "metadata": {},
   "source": [
    "Answer: A free-tier customer who has higher usage (fewer days since last log in, acitvity score = 1) and within a certain demographic group (for example, a young male engineer in Asia) is more likely to convert to a paying customer."
   ]
  },
  {
   "cell_type": "markdown",
   "metadata": {},
   "source": [
    "## Let's get started with our dataset"
   ]
  },
  {
   "cell_type": "markdown",
   "metadata": {},
   "source": [
    "#### 1. Create a data dictionary "
   ]
  },
  {
   "cell_type": "markdown",
   "metadata": {},
   "source": [
    "Answer: \n",
    "\n",
    "Variable | Description                               | Type of Variable\n",
    "         |                                           |\n",
    "admit    | 0 = not admitted, 1 = admitted            | categorical\n",
    "GRE      | score in integers                         | continuous, numeric\n",
    "GPA      | grade in floats                           | continuous, numeric\n",
    "prestige | undergrad school's prestige with a rank   | continuous, ordinal\n",
    "\n",
    "\n",
    "Variable\tDescription\t\t\tType of Variable\t\n",
    "admit\t0 = not admitted, 1 = admitted\t\t\tcategorical\t\n",
    "GRE\tscore in integers\t\t\tcontinuous, numeric\t\n",
    "GPA\tgrade in floats\t\t\tcontinuous, numeric\t\n",
    "prestige\tundergrad school's prestige with\t\t\tcontinuous, ordinal\t\n"
   ]
  },
  {
   "cell_type": "markdown",
   "metadata": {},
   "source": [
    "We would like to explore the association between X and Y "
   ]
  },
  {
   "cell_type": "markdown",
   "metadata": {},
   "source": [
    "#### 2. What is the outcome?"
   ]
  },
  {
   "cell_type": "markdown",
   "metadata": {},
   "source": [
    "Answer: If a candidate is admitted into graduate school"
   ]
  },
  {
   "cell_type": "markdown",
   "metadata": {},
   "source": [
    "#### 3. What are the predictors/covariates? "
   ]
  },
  {
   "cell_type": "markdown",
   "metadata": {},
   "source": [
    "Answer: GRE score, GPA, prestige of a candidate's undergraduate school"
   ]
  },
  {
   "cell_type": "markdown",
   "metadata": {},
   "source": [
    "#### 4. What timeframe is this data relevent for?"
   ]
  },
  {
   "cell_type": "markdown",
   "metadata": {},
   "source": [
    "Answer: One particular graduate school admission cycle or year"
   ]
  },
  {
   "cell_type": "markdown",
   "metadata": {},
   "source": [
    "#### 4. What is the hypothesis?"
   ]
  },
  {
   "cell_type": "markdown",
   "metadata": {},
   "source": [
    "Answer: Higher GRE score, higher GPA, better prestige of a candidate's undergraduate school (represented by a smaller number in the rank 1 to 4), will be associated with a higher likelihood of a candidate getting admitted into graduate school (represented by a '1' for the categorical variable 'admit') because those three criteria give an indication of a candidate's qualification."
   ]
  },
  {
   "cell_type": "markdown",
   "metadata": {},
   "source": [
    "    Using the above information, write a well-formed problem statement. \n",
    "\n"
   ]
  },
  {
   "cell_type": "markdown",
   "metadata": {},
   "source": [
    "## Problem Statement\n",
    "Are higher GRE score, higher GPA and better prestige of a candidate's undergraduate school associated with a higher probability of admission into gradual school for candidates in one admission cycle?"
   ]
  },
  {
   "cell_type": "markdown",
   "metadata": {},
   "source": [
    "### Exploratory Analysis Plan"
   ]
  },
  {
   "cell_type": "markdown",
   "metadata": {},
   "source": [
    "Using the lab from a class as a guide, create an exploratory analysis plan. "
   ]
  },
  {
   "cell_type": "markdown",
   "metadata": {},
   "source": [
    "#### 1. What are the goals of the exploratory analysis? "
   ]
  },
  {
   "cell_type": "markdown",
   "metadata": {
    "collapsed": true
   },
   "source": [
    "Answer: To find out if there is any association or causation among GRE score, GPA, prestige of a candidate's undergraduate school and the likelihood of admission into graduate school for the candidate. "
   ]
  },
  {
   "cell_type": "markdown",
   "metadata": {},
   "source": [
    "#### 2a. What are the assumptions of the distribution of data? "
   ]
  },
  {
   "cell_type": "markdown",
   "metadata": {},
   "source": [
    "Answer: The data in 'admit' column have a binomial distribution because it only takes on two values in 0 and 1. The data in both 'gre' and 'gpa' column seem to have approximately normal distributions but with some negative skews. The data in 'prestige' column have a heavy center (60-70% of total sample points) and light wings, the data are ordinal with four possible outcomes. "
   ]
  },
  {
   "cell_type": "markdown",
   "metadata": {},
   "source": [
    "#### 2b. How will determine the distribution of your data? "
   ]
  },
  {
   "cell_type": "markdown",
   "metadata": {
    "collapsed": true
   },
   "source": [
    "Answer: Get summary statistics of the data and plot boxplots and histograms of each column of data to find out the approximate distribution."
   ]
  },
  {
   "cell_type": "markdown",
   "metadata": {},
   "source": [
    "#### 3a. How might outliers impact your analysis? "
   ]
  },
  {
   "cell_type": "markdown",
   "metadata": {
    "collapsed": true
   },
   "source": [
    "Answer: Outliers in the data may distort the findings in terms of affecting the degree of association as well as the estimated relationship among the predictive variables and the outcome variable. Sometimes outliers may also be an indication of certain characteristics of a distribution such as a fat tail in a normal distribution."
   ]
  },
  {
   "cell_type": "markdown",
   "metadata": {},
   "source": [
    "#### 3b. How will you test for outliers? "
   ]
  },
  {
   "cell_type": "markdown",
   "metadata": {},
   "source": [
    "Answer: Plot boxplots and histograms of the data, look at summary statistics of data such as max, min, quartile, range, etc."
   ]
  },
  {
   "cell_type": "markdown",
   "metadata": {},
   "source": [
    "#### 4a. What is colinearity? "
   ]
  },
  {
   "cell_type": "markdown",
   "metadata": {
    "collapsed": true
   },
   "source": [
    "Answer: Collinearity is a phenomenon in which two or more predictive variables in a multiple regression model are highly correlated. One of those predictive variables can be linearly predicted from some other predictive variables with a substantial degree of accuracy."
   ]
  },
  {
   "cell_type": "markdown",
   "metadata": {},
   "source": [
    "#### 4b. How will you test for colinearity? "
   ]
  },
  {
   "cell_type": "markdown",
   "metadata": {},
   "source": [
    "Answer: We can run repeated simple linear regressions with the dependent variable in the original multiple regression analysis as the dependent variable and one of the predictive variables with an insignificant coefficient in the original multiple regression analysis as the predictive variable (one at a time) and see if the coefficient in the simple linear regression is significantly different from zero. If there is indeed a discrepancy in the coefficients in the two regression analyses for at least one of the predictive variables in the original multiple regression model, then we can conclude that collinearity exists in the original multiple regression model."
   ]
  },
  {
   "cell_type": "markdown",
   "metadata": {},
   "source": [
    "#### 5. What is your exploratory analysis plan?\n",
    "Using the above information, write an exploratory analysis plan that would allow you or a colleague to reproduce your analysis 1 year from now. "
   ]
  },
  {
   "cell_type": "markdown",
   "metadata": {},
   "source": [
    "Answer: We will use the data in the 'admissions.csv' file to conduct a multiple regression analysis which tests the hypothesis \"Higher GRE score, higher GPA, better prestige of a candidate's undergraduate school (represented by a smaller number in the rank 1 to 4), will be associated with a higher likelihood of a candidate getting admitted into graduate school (represented by a '1' for the categorical variable 'admit').\" When dealing with the data, we will try to understand the distribution of each variable with summary statistics and different plots. We will also try to identify any outliers in the data and understand their impact on the analysis, then we will decide on whether to include or exclude them in the analysis. We will test for collinearity in the multiple regression model to see if we need to drop any predictive variables in the analysis. We will then run the multiple regression test to see the significance of the coefficients of the predictive variables and make a conclusion on the original hypothesis."
   ]
  },
  {
   "cell_type": "markdown",
   "metadata": {},
   "source": [
    "## Bonus Questions:\n",
    "1. Outline your analysis method for predicting your outcome\n",
    "2. Write an alternative problem statement for your dataset\n",
    "3. Articulate the assumptions and risks of the alternative model\n",
    "\n",
    "Answer to Question 1: The analysis method used to predict the outcome will be a multiple regression model with GRE, GPA, prestige as the predictive variables and admission (yes/no) as the dependent variable. If any of the coefficient of the predictive variables is significant (reasonably different from 0), we can conclude that there is a significant linear relationship between that predictive variable and the dependent variable. \n",
    "\n",
    "Answer to Question 2: Are students from more prestigious undergraduate schools (represented by a 1 or 2 in the 'prestige' column) having a higher probability of admission into graduate school than students from less prestigious undergraduate schools (represented by a 3 or 4 in the 'prestige' column) ?\n",
    "\n",
    "Answer to Question 3: Some assumptions of the alternative model are that both sample populations (group with 'prestige' 1 or 2 vs group with 'prestige' 3 or 4) have the same variance and all samples are drawn independently of each other. Some risks of the alternative model are that the definition of 'prestige' of the undergraduate schools can be very subjective and may not be a good reflection of the quality of education in those schools which in turn distorts the perception on the qualification of the students from those schools, the number of sample points in each category is quite different and both samples might fall under a threshold (in terms of number of sample points) to accurately represent the respective underlying populations, the assumptions of the alternative model (mentioned earlier in the answer to question 3) might be violated."
   ]
  },
  {
   "cell_type": "code",
   "execution_count": null,
   "metadata": {
    "collapsed": false
   },
   "outputs": [],
   "source": [
    " "
   ]
  },
  {
   "cell_type": "code",
   "execution_count": null,
   "metadata": {
    "collapsed": true
   },
   "outputs": [],
   "source": []
  }
 ],
 "metadata": {
  "kernelspec": {
   "display_name": "Python 2",
   "language": "python",
   "name": "python2"
  },
  "language_info": {
   "codemirror_mode": {
    "name": "ipython",
    "version": 2
   },
   "file_extension": ".py",
   "mimetype": "text/x-python",
   "name": "python",
   "nbconvert_exporter": "python",
   "pygments_lexer": "ipython2",
   "version": "2.7.13"
  }
 },
 "nbformat": 4,
 "nbformat_minor": 0
}
